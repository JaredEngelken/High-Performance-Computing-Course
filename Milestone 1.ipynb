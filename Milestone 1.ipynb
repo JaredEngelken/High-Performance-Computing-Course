{
 "cells": [
  {
   "cell_type": "markdown",
   "id": "2031dc40",
   "metadata": {},
   "source": [
    "# Milestone 1"
   ]
  },
  {
   "cell_type": "markdown",
   "id": "2f494092",
   "metadata": {},
   "source": [
    "## Task: Write a function which will compute the density at each lattice point."
   ]
  },
  {
   "cell_type": "markdown",
   "id": "b7847984",
   "metadata": {},
   "source": [
    "We discretize a 2D domain so that the position vector r can be expressed through the two coordinates x and y\n",
    "\n",
    "~ The first step is to identify the proper array representation of density ρ(x,y), velocity v(x,y) and function f(x,y,v)\n",
    "\n",
    "~ The density is given by:\n",
    "ρ(x,y)=∫dvf(x,y,v)."
   ]
  },
  {
   "cell_type": "markdown",
   "id": "8c23469c",
   "metadata": {},
   "source": [
    "## Task: Write a function which will compute the density at each lattice point.\n",
    "\n",
    "The velocity field v is given by v(x,y)=1ρ(x,y)∫dvf(x,y,v)⋅c(v).\n",
    "\n",
    "Write a function which will compute the velocity field at your grid points.\n",
    "\n",
    "Initialize the probability density function with values of your choice. We suggest you start with a grid that is 15 lattice points wide and 10 points long. Visualize the density and the components of the velocity field on your grid using the python library matplotlib.\n",
    "\n",
    "Write a function streaming which shifts the components of the probability density function along the grid according to their direction. Hint: if you use numpy.roll this can achieved in a single command!\n",
    "\n",
    "write a test that checks whether mass is conserved between two timesteps.\n"
   ]
  },
  {
   "cell_type": "code",
   "execution_count": 146,
   "id": "481ba67a",
   "metadata": {},
   "outputs": [],
   "source": [
    "import numpy as np\n",
    "\n",
    "%matplotlib inline\n",
    "import matplotlib.pyplot as plt\n",
    "from mpl_toolkits.mplot3d import Axes3D"
   ]
  },
  {
   "cell_type": "code",
   "execution_count": 218,
   "id": "5be49814",
   "metadata": {},
   "outputs": [
    {
     "data": {
      "text/plain": [
       "array([[  0,   1,   2,   3,   4,   5,   6,   7,   8,   9,  10,  11,  12,\n",
       "         13,  14],\n",
       "       [ 15,  16,  17,  18,  19,  20,  21,  22,  23,  24,  25,  26,  27,\n",
       "         28,  29],\n",
       "       [ 30,  31,  32,  33,  34,  35,  36,  37,  38,  39,  40,  41,  42,\n",
       "         43,  44],\n",
       "       [ 45,  46,  47,  48,  49,  50,  51,  52,  53,  54,  55,  56,  57,\n",
       "         58,  59],\n",
       "       [ 60,  61,  62,  63,  64,  65,  66,  67,  68,  69,  70,  71,  72,\n",
       "         73,  74],\n",
       "       [ 75,  76,  77,  78,  79,  80,  81,  82,  83,  84,  85,  86,  87,\n",
       "         88,  89],\n",
       "       [ 90,  91,  92,  93,  94,  95,  96,  97,  98,  99, 100, 101, 102,\n",
       "        103, 104],\n",
       "       [105, 106, 107, 108, 109, 110, 111, 112, 113, 114, 115, 116, 117,\n",
       "        118, 119],\n",
       "       [120, 121, 122, 123, 124, 125, 126, 127, 128, 129, 130, 131, 132,\n",
       "        133, 134],\n",
       "       [135, 136, 137, 138, 139, 140, 141, 142, 143, 144, 145, 146, 147,\n",
       "        148, 149]])"
      ]
     },
     "execution_count": 218,
     "metadata": {},
     "output_type": "execute_result"
    }
   ],
   "source": [
    "a = np.arange(150) #Make a 1D array of 150 indices\n",
    "a.shape = (10,15) #Make the 1D array into a 10x15 2D array\n",
    "a"
   ]
  },
  {
   "cell_type": "code",
   "execution_count": 219,
   "id": "3f1d55e5",
   "metadata": {},
   "outputs": [
    {
     "data": {
      "text/plain": [
       "(10, 15)"
      ]
     },
     "execution_count": 219,
     "metadata": {},
     "output_type": "execute_result"
    }
   ],
   "source": [
    "np.shape(a) #Confirm the shape"
   ]
  },
  {
   "cell_type": "code",
   "execution_count": 220,
   "id": "84e026f9",
   "metadata": {},
   "outputs": [
    {
     "data": {
      "text/plain": [
       "array([[[  0,   0,   0, ...,   0,   0,   0],\n",
       "        [  1,   1,   1, ...,   1,   1,   1],\n",
       "        [  2,   2,   2, ...,   2,   2,   2],\n",
       "        ...,\n",
       "        [ 12,  12,  12, ...,  12,  12,  12],\n",
       "        [ 13,  13,  13, ...,  13,  13,  13],\n",
       "        [ 14,  14,  14, ...,  14,  14,  14]],\n",
       "\n",
       "       [[ 15,  15,  15, ...,  15,  15,  15],\n",
       "        [ 16,  16,  16, ...,  16,  16,  16],\n",
       "        [ 17,  17,  17, ...,  17,  17,  17],\n",
       "        ...,\n",
       "        [ 27,  27,  27, ...,  27,  27,  27],\n",
       "        [ 28,  28,  28, ...,  28,  28,  28],\n",
       "        [ 29,  29,  29, ...,  29,  29,  29]],\n",
       "\n",
       "       [[ 30,  30,  30, ...,  30,  30,  30],\n",
       "        [ 31,  31,  31, ...,  31,  31,  31],\n",
       "        [ 32,  32,  32, ...,  32,  32,  32],\n",
       "        ...,\n",
       "        [ 42,  42,  42, ...,  42,  42,  42],\n",
       "        [ 43,  43,  43, ...,  43,  43,  43],\n",
       "        [ 44,  44,  44, ...,  44,  44,  44]],\n",
       "\n",
       "       ...,\n",
       "\n",
       "       [[105, 105, 105, ..., 105, 105, 105],\n",
       "        [106, 106, 106, ..., 106, 106, 106],\n",
       "        [107, 107, 107, ..., 107, 107, 107],\n",
       "        ...,\n",
       "        [117, 117, 117, ..., 117, 117, 117],\n",
       "        [118, 118, 118, ..., 118, 118, 118],\n",
       "        [119, 119, 119, ..., 119, 119, 119]],\n",
       "\n",
       "       [[120, 120, 120, ..., 120, 120, 120],\n",
       "        [121, 121, 121, ..., 121, 121, 121],\n",
       "        [122, 122, 122, ..., 122, 122, 122],\n",
       "        ...,\n",
       "        [132, 132, 132, ..., 132, 132, 132],\n",
       "        [133, 133, 133, ..., 133, 133, 133],\n",
       "        [134, 134, 134, ..., 134, 134, 134]],\n",
       "\n",
       "       [[135, 135, 135, ..., 135, 135, 135],\n",
       "        [136, 136, 136, ..., 136, 136, 136],\n",
       "        [137, 137, 137, ..., 137, 137, 137],\n",
       "        ...,\n",
       "        [147, 147, 147, ..., 147, 147, 147],\n",
       "        [148, 148, 148, ..., 148, 148, 148],\n",
       "        [149, 149, 149, ..., 149, 149, 149]]])"
      ]
     },
     "execution_count": 220,
     "metadata": {},
     "output_type": "execute_result"
    }
   ],
   "source": [
    "a = np.dstack([a]*9) #Copy the 10x15 array 9 times in the z direction\n",
    "a"
   ]
  },
  {
   "cell_type": "code",
   "execution_count": 221,
   "id": "441445d7",
   "metadata": {},
   "outputs": [
    {
     "data": {
      "text/plain": [
       "(10, 15, 9)"
      ]
     },
     "execution_count": 221,
     "metadata": {},
     "output_type": "execute_result"
    }
   ],
   "source": [
    "np.shape(a) #Confirm the shape"
   ]
  },
  {
   "cell_type": "code",
   "execution_count": 222,
   "id": "5ddd40ab",
   "metadata": {},
   "outputs": [
    {
     "data": {
      "text/plain": [
       "2"
      ]
     },
     "execution_count": 222,
     "metadata": {},
     "output_type": "execute_result"
    }
   ],
   "source": [
    "a[0,2,3] #Check the values"
   ]
  },
  {
   "cell_type": "markdown",
   "id": "c64c6dd7",
   "metadata": {},
   "source": [
    "Numpy stores the array values as [y,x,z], where x is to the right, y is down, and z is back. However, when displaying an array, it is out put as [[x,z],y], where x is down and z is right within each cell, and y is down across all the cells."
   ]
  },
  {
   "cell_type": "code",
   "execution_count": 236,
   "id": "23795862",
   "metadata": {},
   "outputs": [],
   "source": [
    "#def streaming(shift_factor):\n",
    "#    for i in range(np.size(a,axis=2)):\n",
    "#        a[:,:,i]=np.roll(a[:,:,i],(0,shift_factor),axis=(0,1)) #Shift every row in the x axis by the shift_factor\n",
    "#    return a\n",
    "\n",
    "def streaming(shift_factor):\n",
    "    #0:The nullth z plane does not get shifted as it represents the position\n",
    "    a[:,:,1]=np.roll(a[:,:,1],(0,shift_factor),axis=(0,1)) #1:Shift every element in the first z plane in the x direction by the shift_factor\n",
    "    a[:,:,2]=np.roll(a[:,:,2],(shift_factor,0),axis=(0,1)) #2:Shift every element in the second z plane in the y direction by the shift_factor\n",
    "    a[:,:,3]=np.roll(a[:,:,3],(0,-shift_factor),axis=(0,1)) #3:Shift every element in the third z plane in the -x direction by the shift_factor\n",
    "    a[:,:,4]=np.roll(a[:,:,4],(-shift_factor,0),axis=(0,1)) #4:Shift every element in the fourth z plane in the -y direction by the shift_factor\n",
    "    a[:,:,5]=np.roll(a[:,:,5],(shift_factor,shift_factor),axis=(0,1)) #5:Shift every element in the fifth z plane in the x and y direction by the shift_factor\n",
    "    a[:,:,6]=np.roll(a[:,:,6],(shift_factor,-shift_factor),axis=(0,1)) #6:Shift every element in the sixth z plane in the -x and y direction by the shift_factor\n",
    "    a[:,:,7]=np.roll(a[:,:,7],(-shift_factor,-shift_factor),axis=(0,1)) #7:Shift every element in the seventh z plane in the -x and -y direction by the shift_factor\n",
    "    a[:,:,8]=np.roll(a[:,:,8],(-shift_factor,shift_factor),axis=(0,1)) #8:Shift every element in the eighth z plane in the x and -y direction by the shift_factor\n",
    "    \n",
    "    return a"
   ]
  },
  {
   "cell_type": "code",
   "execution_count": 266,
   "id": "079887e5",
   "metadata": {},
   "outputs": [
    {
     "data": {
      "text/plain": [
       "array([[[  0,   0,   0, ...,   0,   0,   0],\n",
       "        [  1,   1,   1, ...,   1,   1,   1],\n",
       "        [  2,   2,   2, ...,   2,   2,   2],\n",
       "        ...,\n",
       "        [ 12,  12,  12, ...,  12,  12,  12],\n",
       "        [ 13,  13,  13, ...,  13,  13,  13],\n",
       "        [ 14,  14,  14, ...,  14,  14,  14]],\n",
       "\n",
       "       [[ 15,  15,  15, ...,  15,  15,  15],\n",
       "        [ 16,  16,  16, ...,  16,  16,  16],\n",
       "        [ 17,  17,  17, ...,  17,  17,  17],\n",
       "        ...,\n",
       "        [ 27,  27,  27, ...,  27,  27,  27],\n",
       "        [ 28,  28,  28, ...,  28,  28,  28],\n",
       "        [ 29,  29,  29, ...,  29,  29,  29]],\n",
       "\n",
       "       [[ 30,  30,  30, ...,  30,  30,  30],\n",
       "        [ 31,  31,  31, ...,  31,  31,  31],\n",
       "        [ 32,  32,  32, ...,  32,  32,  32],\n",
       "        ...,\n",
       "        [ 42,  42,  42, ...,  42,  42,  42],\n",
       "        [ 43,  43,  43, ...,  43,  43,  43],\n",
       "        [ 44,  44,  44, ...,  44,  44,  44]],\n",
       "\n",
       "       ...,\n",
       "\n",
       "       [[105, 105, 105, ..., 105, 105, 105],\n",
       "        [106, 106, 106, ..., 106, 106, 106],\n",
       "        [107, 107, 107, ..., 107, 107, 107],\n",
       "        ...,\n",
       "        [117, 117, 117, ..., 117, 117, 117],\n",
       "        [118, 118, 118, ..., 118, 118, 118],\n",
       "        [119, 119, 119, ..., 119, 119, 119]],\n",
       "\n",
       "       [[120, 120, 120, ..., 120, 120, 120],\n",
       "        [121, 121, 121, ..., 121, 121, 121],\n",
       "        [122, 122, 122, ..., 122, 122, 122],\n",
       "        ...,\n",
       "        [132, 132, 132, ..., 132, 132, 132],\n",
       "        [133, 133, 133, ..., 133, 133, 133],\n",
       "        [134, 134, 134, ..., 134, 134, 134]],\n",
       "\n",
       "       [[135, 135, 135, ..., 135, 135, 135],\n",
       "        [136, 136, 136, ..., 136, 136, 136],\n",
       "        [137, 137, 137, ..., 137, 137, 137],\n",
       "        ...,\n",
       "        [147, 147, 147, ..., 147, 147, 147],\n",
       "        [148, 148, 148, ..., 148, 148, 148],\n",
       "        [149, 149, 149, ..., 149, 149, 149]]])"
      ]
     },
     "execution_count": 266,
     "metadata": {},
     "output_type": "execute_result"
    }
   ],
   "source": [
    "streaming(1)"
   ]
  },
  {
   "cell_type": "code",
   "execution_count": 231,
   "id": "50ea0724",
   "metadata": {},
   "outputs": [
    {
     "data": {
      "text/plain": [
       "15"
      ]
     },
     "execution_count": 231,
     "metadata": {},
     "output_type": "execute_result"
    }
   ],
   "source": [
    "a[0][0][3]"
   ]
  },
  {
   "cell_type": "code",
   "execution_count": null,
   "id": "bf7500ed",
   "metadata": {},
   "outputs": [],
   "source": []
  }
 ],
 "metadata": {
  "kernelspec": {
   "display_name": "Python 3",
   "language": "python",
   "name": "python3"
  },
  "language_info": {
   "codemirror_mode": {
    "name": "ipython",
    "version": 3
   },
   "file_extension": ".py",
   "mimetype": "text/x-python",
   "name": "python",
   "nbconvert_exporter": "python",
   "pygments_lexer": "ipython3",
   "version": "3.6.5"
  }
 },
 "nbformat": 4,
 "nbformat_minor": 5
}
