{
 "cells": [
  {
   "cell_type": "markdown",
   "id": "ac75c6eb",
   "metadata": {},
   "source": [
    "# Titles start with a hash sign\n",
    "  __strongly emphasized words__ are lead and trailed by double underscores\n",
    "\n",
    "  _emphasized words_ by single underscores"
   ]
  },
  {
   "cell_type": "markdown",
   "id": "a12c0637",
   "metadata": {},
   "source": [
    "# Basics of Python"
   ]
  },
  {
   "cell_type": "code",
   "execution_count": 1,
   "id": "5b646b8d",
   "metadata": {},
   "outputs": [
    {
     "name": "stdout",
     "output_type": "stream",
     "text": [
      "24\n"
     ]
    }
   ],
   "source": [
    "print(24)"
   ]
  },
  {
   "cell_type": "code",
   "execution_count": 5,
   "id": "7e0918fb",
   "metadata": {},
   "outputs": [
    {
     "name": "stdout",
     "output_type": "stream",
     "text": [
      "Hello, World!\n"
     ]
    }
   ],
   "source": [
    "print(\"Hello, World!\")"
   ]
  },
  {
   "cell_type": "code",
   "execution_count": 6,
   "id": "96456230",
   "metadata": {},
   "outputs": [],
   "source": [
    "print??"
   ]
  },
  {
   "cell_type": "code",
   "execution_count": 7,
   "id": "64d1baae",
   "metadata": {},
   "outputs": [
    {
     "name": "stdout",
     "output_type": "stream",
     "text": [
      "Hello, \n"
     ]
    }
   ],
   "source": [
    "print(\"Hello, \")#print(\"World\")"
   ]
  },
  {
   "cell_type": "code",
   "execution_count": 8,
   "id": "e29491a5",
   "metadata": {},
   "outputs": [],
   "source": [
    "# Properties of a book with A4 pages\n",
    "height = 0.21022 # in [m] <- because units are not obvious\n",
    "width = 0.29730 # in [m]\n",
    "nb_pages = 434\n",
    "title = \"The life of Edgar\""
   ]
  },
  {
   "cell_type": "code",
   "execution_count": 9,
   "id": "a1a84421",
   "metadata": {},
   "outputs": [
    {
     "name": "stdout",
     "output_type": "stream",
     "text": [
      "area of the book ' The life of Edgar ' is 27.124308204\n"
     ]
    }
   ],
   "source": [
    "area = nb_pages * height * width\n",
    "print(\"area of the book '\", title, \"' is\", area)"
   ]
  },
  {
   "cell_type": "code",
   "execution_count": 10,
   "id": "6413853b",
   "metadata": {},
   "outputs": [
    {
     "name": "stdout",
     "output_type": "stream",
     "text": [
      "<class 'float'>\n",
      "<class 'int'>\n",
      "<class 'str'>\n"
     ]
    }
   ],
   "source": [
    "print(type(area))\n",
    "print(type(nb_pages))\n",
    "print(type(title))"
   ]
  },
  {
   "cell_type": "code",
   "execution_count": 11,
   "id": "66bd33aa",
   "metadata": {},
   "outputs": [
    {
     "name": "stdout",
     "output_type": "stream",
     "text": [
      "<class 'float'>\n",
      "<class 'int'>\n",
      "<class 'str'>\n"
     ]
    }
   ],
   "source": [
    "x = height\n",
    "print(type(x))\n",
    "x = nb_pages\n",
    "print(type(x))\n",
    "x = title\n",
    "print((type(x)))"
   ]
  },
  {
   "cell_type": "code",
   "execution_count": 12,
   "id": "ae16a4a3",
   "metadata": {},
   "outputs": [],
   "source": [
    "abe_lincoln_lies = False\n",
    "pinocchio_lies = True"
   ]
  },
  {
   "cell_type": "code",
   "execution_count": 13,
   "id": "475ccc51",
   "metadata": {},
   "outputs": [
    {
     "name": "stdout",
     "output_type": "stream",
     "text": [
      "True\n",
      "False\n"
     ]
    }
   ],
   "source": [
    "print(bool(area))\n",
    "print(bool(0))"
   ]
  },
  {
   "cell_type": "code",
   "execution_count": 14,
   "id": "71110079",
   "metadata": {},
   "outputs": [
    {
     "name": "stdout",
     "output_type": "stream",
     "text": [
      "False\n",
      "True\n",
      "True\n"
     ]
    }
   ],
   "source": [
    "print(height == width) # equality comparison\n",
    "print(height < width)  # greater-than comparison\n",
    "print(height != width)  # inequality comparison"
   ]
  },
  {
   "cell_type": "code",
   "execution_count": 15,
   "id": "f8cc2374",
   "metadata": {},
   "outputs": [],
   "source": [
    "import numpy"
   ]
  },
  {
   "cell_type": "code",
   "execution_count": 16,
   "id": "a9d2a6c8",
   "metadata": {},
   "outputs": [
    {
     "name": "stdout",
     "output_type": "stream",
     "text": [
      "3.141592653589793\n",
      "1.0\n"
     ]
    }
   ],
   "source": [
    "print(numpy.pi)\n",
    "print(numpy.sin(numpy.pi/2))"
   ]
  },
  {
   "cell_type": "code",
   "execution_count": 17,
   "id": "a0d7b543",
   "metadata": {},
   "outputs": [
    {
     "name": "stdout",
     "output_type": "stream",
     "text": [
      "1.0\n"
     ]
    }
   ],
   "source": [
    "from numpy import log, e\n",
    "print(log(e))"
   ]
  },
  {
   "cell_type": "code",
   "execution_count": 19,
   "id": "6c6749f0",
   "metadata": {},
   "outputs": [
    {
     "data": {
      "text/plain": [
       "-1.0"
      ]
     },
     "execution_count": 19,
     "metadata": {},
     "output_type": "execute_result"
    }
   ],
   "source": [
    "import numpy as np\n",
    "np.cos(np.pi)"
   ]
  },
  {
   "cell_type": "code",
   "execution_count": 20,
   "id": "174f8c60",
   "metadata": {},
   "outputs": [
    {
     "name": "stdout",
     "output_type": "stream",
     "text": [
      "3.141592653589793\n"
     ]
    }
   ],
   "source": [
    "from numpy import pi as PI\n",
    "print(PI)"
   ]
  },
  {
   "cell_type": "code",
   "execution_count": 21,
   "id": "a68238f5",
   "metadata": {},
   "outputs": [
    {
     "name": "stdout",
     "output_type": "stream",
     "text": [
      "[6, 24.5, True, 'Hakuna Matata']\n"
     ]
    }
   ],
   "source": [
    "my_list = [6, 24.5, True, \"Hakuna Matata\"]\n",
    "print(my_list)"
   ]
  },
  {
   "cell_type": "code",
   "execution_count": 22,
   "id": "cf14ba02",
   "metadata": {},
   "outputs": [
    {
     "name": "stdout",
     "output_type": "stream",
     "text": [
      "[1, 3.141592653589793, [6, 24.5, True, 'Hakuna Matata'], None]\n"
     ]
    }
   ],
   "source": [
    "my_new_list = [1, PI, my_list, None]\n",
    "print(my_new_list)"
   ]
  },
  {
   "cell_type": "code",
   "execution_count": 25,
   "id": "d28e8281",
   "metadata": {},
   "outputs": [
    {
     "name": "stdout",
     "output_type": "stream",
     "text": [
      "[1, 2, 3, 4, 5, 6]\n",
      "[1, 2, 3, [4, 5, 6]]\n",
      "[1, 2, 3, 4]\n"
     ]
    }
   ],
   "source": [
    "my_list = [1, 2, 3]\n",
    "my_list.extend([4, 5, 6])\n",
    "print(my_list)\n",
    "\n",
    "# Note the difference\n",
    "my_list = [1, 2, 3]\n",
    "my_list.append([4, 5, 6])\n",
    "print(my_list)\n",
    "\n",
    "my_list = [1, 2, 3]\n",
    "my_list.append(4)\n",
    "print(my_list)"
   ]
  },
  {
   "cell_type": "code",
   "execution_count": 26,
   "id": "3f1680b0",
   "metadata": {},
   "outputs": [
    {
     "name": "stdout",
     "output_type": "stream",
     "text": [
      "1\n",
      "2\n"
     ]
    }
   ],
   "source": [
    "my_list = [1, 2, 3, 4, 5, 6, 8, 9]\n",
    "print(my_list[0])\n",
    "print(my_list[1])"
   ]
  },
  {
   "cell_type": "code",
   "execution_count": 27,
   "id": "9461112e",
   "metadata": {},
   "outputs": [
    {
     "name": "stdout",
     "output_type": "stream",
     "text": [
      "9\n",
      "8\n"
     ]
    }
   ],
   "source": [
    "print(my_list[-1])\n",
    "print(my_list[-2])"
   ]
  },
  {
   "cell_type": "code",
   "execution_count": 28,
   "id": "727e8c59",
   "metadata": {},
   "outputs": [
    {
     "name": "stdout",
     "output_type": "stream",
     "text": [
      "[3, 4, 5]\n",
      "6\n"
     ]
    }
   ],
   "source": [
    "print(my_list[2:5])\n",
    "print(my_list[5])"
   ]
  },
  {
   "cell_type": "code",
   "execution_count": 29,
   "id": "92d45ebd",
   "metadata": {},
   "outputs": [
    {
     "name": "stdout",
     "output_type": "stream",
     "text": [
      "[1, 2, 3]\n",
      "[8, 9]\n",
      "[1, 2, 3, 4, 5, 6, 8, 9]\n"
     ]
    }
   ],
   "source": [
    "print(my_list[:3])   # the first three items\n",
    "print(my_list[-2:])  # the last 2 items\n",
    "print(my_list[:])    # all items"
   ]
  },
  {
   "cell_type": "code",
   "execution_count": 30,
   "id": "383b0ba9",
   "metadata": {},
   "outputs": [
    {
     "name": "stdout",
     "output_type": "stream",
     "text": [
      "[1, 4, 8]\n"
     ]
    }
   ],
   "source": [
    "print(my_list[0:-1:3])"
   ]
  },
  {
   "cell_type": "code",
   "execution_count": 31,
   "id": "f9a5ff5c",
   "metadata": {},
   "outputs": [
    {
     "name": "stdout",
     "output_type": "stream",
     "text": [
      "[9, 8, 6, 5, 4, 3, 2, 1]\n"
     ]
    }
   ],
   "source": [
    "print(my_list[::-1])"
   ]
  },
  {
   "cell_type": "code",
   "execution_count": 32,
   "id": "2dcd15b4",
   "metadata": {},
   "outputs": [
    {
     "name": "stdout",
     "output_type": "stream",
     "text": [
      "[1, 2, 3, 4, 5, 6, 8, 9]\n",
      "[1, 2, 'A', 4, 5, 6, 8, 9]\n",
      "[1, 2, 'A', 'x', True, 6, 8, 9]\n",
      "[1, 2, 'A', 'x', True, 8, 9]\n"
     ]
    }
   ],
   "source": [
    "print(my_list)\n",
    "my_list[2] = \"A\"\n",
    "print(my_list)\n",
    "my_list[3:5] = ['x', True]\n",
    "print(my_list)\n",
    "del my_list[5]\n",
    "print(my_list)"
   ]
  },
  {
   "cell_type": "code",
   "execution_count": 33,
   "id": "8b1087f4",
   "metadata": {},
   "outputs": [
    {
     "name": "stdout",
     "output_type": "stream",
     "text": [
      "{'height': 0.21022, 'width': 0.2973, 'title': 'The life of Edgar'}\n"
     ]
    }
   ],
   "source": [
    "my_dict = {\"height\": height, \"width\": width, \"title\": title}\n",
    "print(my_dict)"
   ]
  },
  {
   "cell_type": "code",
   "execution_count": 34,
   "id": "4a821091",
   "metadata": {},
   "outputs": [
    {
     "name": "stdout",
     "output_type": "stream",
     "text": [
      "The life of Edgar\n"
     ]
    }
   ],
   "source": [
    "print(my_dict[\"title\"])"
   ]
  },
  {
   "cell_type": "code",
   "execution_count": 35,
   "id": "1c55da85",
   "metadata": {},
   "outputs": [
    {
     "name": "stdout",
     "output_type": "stream",
     "text": [
      "{'height': 0.21022, 'width': 0.2973, 'title': 'The life of Edgar', 'nb_pages': 434}\n"
     ]
    }
   ],
   "source": [
    "my_dict[\"weight\"] = 379.8e-3 # in kg\n",
    "my_dict[\"nb_pages\"] = nb_pages\n",
    "del my_dict[\"weight\"]\n",
    "print(my_dict)"
   ]
  },
  {
   "cell_type": "code",
   "execution_count": 2,
   "id": "f8a74586",
   "metadata": {},
   "outputs": [
    {
     "name": "stdout",
     "output_type": "stream",
     "text": [
      "C\n"
     ]
    }
   ],
   "source": [
    "if 4 > 5:\n",
    "    print('A')\n",
    "elif 4 == 5:\n",
    "    print('B')\n",
    "elif 4 < 5:\n",
    "    print('C')"
   ]
  },
  {
   "cell_type": "code",
   "execution_count": 3,
   "id": "96cd850f",
   "metadata": {},
   "outputs": [
    {
     "name": "stdout",
     "output_type": "stream",
     "text": [
      "word is true\n",
      "non-empty list is true\n",
      "one is true\n"
     ]
    }
   ],
   "source": [
    "if '':\n",
    "    print('empty string is true')\n",
    "if 'word':\n",
    "    print('word is true')\n",
    "if []:\n",
    "    print('empty list is true')\n",
    "if [1, 2, 3]:\n",
    "    print('non-empty list is true')\n",
    "if 0:\n",
    "    print('zero is true')\n",
    "if 1:\n",
    "    print('one is true')"
   ]
  },
  {
   "cell_type": "code",
   "execution_count": 12,
   "id": "86d8327e",
   "metadata": {},
   "outputs": [
    {
     "name": "stdout",
     "output_type": "stream",
     "text": [
      "True\n"
     ]
    }
   ],
   "source": [
    "a = 25\n",
    "b = 22.6\n",
    "c = a*.1\n",
    "if b<(a+c) and b>(a-c):\n",
    "    print(\"True\")\n",
    "else: print(\"False\")"
   ]
  },
  {
   "cell_type": "markdown",
   "id": "7bd1250a",
   "metadata": {},
   "source": [
    "# Loops"
   ]
  },
  {
   "cell_type": "code",
   "execution_count": 13,
   "id": "5cbf9f55",
   "metadata": {},
   "outputs": [],
   "source": [
    "J = [ 0.68317717,  0.01132594,  0.36122905,  0.94205695,\n",
    "      0.69374011,  0.79858585,  0.26400973,  0.64446646]\n",
    "W = [ 2.0       ,  1.0       ,  0.88888889,  0.55555556,\n",
    "      2.0       ,  1.0       ,  0.88888889,  0.55555556]"
   ]
  },
  {
   "cell_type": "code",
   "execution_count": 34,
   "id": "d940e0ec",
   "metadata": {},
   "outputs": [
    {
     "name": "stdout",
     "output_type": "stream",
     "text": [
      "5.000916056634814\n"
     ]
    }
   ],
   "source": [
    "y=0\n",
    "for i in range(len(J)):\n",
    "    x=J[i]*W[i]\n",
    "    y+=x\n",
    "print(y)"
   ]
  },
  {
   "cell_type": "code",
   "execution_count": 35,
   "id": "f0c7b87c",
   "metadata": {},
   "outputs": [
    {
     "name": "stdout",
     "output_type": "stream",
     "text": [
      "height : 0.21022\n",
      "width : 0.2973\n",
      "title : The life of Edgar\n"
     ]
    }
   ],
   "source": [
    "my_dict = {\"height\": 0.21022, \"width\": 0.29730, \"title\": \"The life of Edgar\"}\n",
    "for key in my_dict:\n",
    "    print(key, \":\", my_dict[key])"
   ]
  },
  {
   "cell_type": "code",
   "execution_count": 36,
   "id": "0623f5a0",
   "metadata": {},
   "outputs": [
    {
     "name": "stdout",
     "output_type": "stream",
     "text": [
      "loop 1:\n",
      "H\n",
      "a\n",
      "k\n",
      "u\n",
      "n\n",
      "a\n",
      "loop 2:\n",
      "H M\n",
      "a a\n",
      "k t\n",
      "u a\n",
      "n t\n",
      "a a\n"
     ]
    }
   ],
   "source": [
    "word1 = \"Hakuna\"\n",
    "word2 = \"Matata\"\n",
    "\n",
    "print(\"loop 1:\")\n",
    "for i in range(len(word1)):\n",
    "    print(word1[i])\n",
    "\n",
    "print(\"loop 2:\")\n",
    "for letter1, letter2 in zip(word1, word2):\n",
    "    print(letter1, letter2)"
   ]
  },
  {
   "cell_type": "markdown",
   "id": "a39d089f",
   "metadata": {},
   "source": [
    "__One-liner loops__"
   ]
  },
  {
   "cell_type": "code",
   "execution_count": 39,
   "id": "76bf95fc",
   "metadata": {},
   "outputs": [
    {
     "data": {
      "text/plain": [
       "[206, 234, 34, 20, 198, 28, 100, 44, 86, 238]"
      ]
     },
     "execution_count": 39,
     "metadata": {},
     "output_type": "execute_result"
    }
   ],
   "source": [
    "#one-liner for loops for lists\n",
    "data = [103, 117,  17,  10,  99,  14,  50,  22,  43, 119]\n",
    "\n",
    "double_data = [2*number for number in data]\n",
    "odd_data = [number for number in data if number%2 == 1]\n",
    "\n",
    "double_data"
   ]
  },
  {
   "cell_type": "code",
   "execution_count": 40,
   "id": "6cf7de25",
   "metadata": {},
   "outputs": [
    {
     "data": {
      "text/plain": [
       "[103, 117, 17, 99, 43, 119]"
      ]
     },
     "execution_count": 40,
     "metadata": {},
     "output_type": "execute_result"
    }
   ],
   "source": [
    "odd_data"
   ]
  },
  {
   "cell_type": "code",
   "execution_count": 52,
   "id": "9c48e9b7",
   "metadata": {},
   "outputs": [
    {
     "name": "stdout",
     "output_type": "stream",
     "text": [
      "5.000916056634814\n"
     ]
    }
   ],
   "source": [
    "z = sum([J[i]*W[i] for i in range(len(J))])\n",
    "print(z)"
   ]
  },
  {
   "cell_type": "markdown",
   "id": "670b167c",
   "metadata": {},
   "source": [
    "# functions"
   ]
  },
  {
   "cell_type": "code",
   "execution_count": 53,
   "id": "bba7a3cc",
   "metadata": {},
   "outputs": [],
   "source": [
    "def fahr_to_kelvin(temp):\n",
    "    return ((temp - 32) * (5/9)) + 273.15"
   ]
  },
  {
   "cell_type": "code",
   "execution_count": 54,
   "id": "bf715d13",
   "metadata": {},
   "outputs": [
    {
     "name": "stdout",
     "output_type": "stream",
     "text": [
      "freezing point of water: 273.15 K\n",
      "boiling point of water: 373.15 K\n"
     ]
    }
   ],
   "source": [
    "print('freezing point of water:', fahr_to_kelvin(32), 'K')\n",
    "print('boiling point of water:', fahr_to_kelvin(212), 'K')"
   ]
  },
  {
   "cell_type": "code",
   "execution_count": 56,
   "id": "aa7b564e",
   "metadata": {},
   "outputs": [
    {
     "name": "stdout",
     "output_type": "stream",
     "text": [
      "log_10(100) = 2.0\n",
      "log_2(1024) = 10.0\n"
     ]
    }
   ],
   "source": [
    "def my_log(x, base):\n",
    "    from numpy import log\n",
    "    return log(x)/log(base)\n",
    "\n",
    "print(\"log_10(100) =\", my_log(100, 10))\n",
    "print(\"log_2(1024) =\", my_log(1024, 2))"
   ]
  },
  {
   "cell_type": "code",
   "execution_count": 57,
   "id": "926ba8d5",
   "metadata": {},
   "outputs": [
    {
     "name": "stdout",
     "output_type": "stream",
     "text": [
      "log_10(100) = 2.0\n",
      "log_2(1024) = 10.0\n",
      "ln(2.718281828459045) = 1.0\n"
     ]
    }
   ],
   "source": [
    "from numpy import e\n",
    "def my_log(x, base=e):\n",
    "    from numpy import log\n",
    "    return log(x)/log(base)\n",
    "\n",
    "print(\"log_10(100) =\", my_log(100, 10))\n",
    "print(\"log_2(1024) =\", my_log(1024, 2))\n",
    "print(\"ln(2.718281828459045) =\", my_log(2.718281828459045))"
   ]
  },
  {
   "cell_type": "code",
   "execution_count": 58,
   "id": "7edefbe0",
   "metadata": {},
   "outputs": [
    {
     "data": {
      "text/plain": [
       "(24.0, 58.8)"
      ]
     },
     "execution_count": 58,
     "metadata": {},
     "output_type": "execute_result"
    }
   ],
   "source": [
    "from numpy import cos, pi\n",
    "def pendulum(l, m, theta, omega, g=9.8):\n",
    "    \"\"\" computes the mechanical energies for a pendulum of length l and \n",
    "        mass m at angular position theta (from the lower vertical) and \n",
    "        angular velocity omega.\n",
    "\n",
    "        returns:\n",
    "        e_kin, e_pot\n",
    "    \"\"\"\n",
    "    e_kin = 0.5* m * (l*omega)**2\n",
    "    e_pot = m * g * (1-cos(theta))*l\n",
    "    return e_kin, e_pot\n",
    "\n",
    "l = .5\n",
    "m = 12\n",
    "theta = pi/2\n",
    "omega = -4\n",
    "\n",
    "energies = pendulum(l, m, theta, omega)\n",
    "energies"
   ]
  },
  {
   "cell_type": "code",
   "execution_count": 59,
   "id": "c8f491ec",
   "metadata": {},
   "outputs": [
    {
     "name": "stdout",
     "output_type": "stream",
     "text": [
      "unpacked: E_kin = 24.0 E_pot = 58.8\n"
     ]
    }
   ],
   "source": [
    "e_kin, e_pot = energies #unpacks the tuple (e_kin,e_pot)\n",
    "print(\"unpacked: E_kin =\", e_kin, \"E_pot =\", e_pot)"
   ]
  },
  {
   "cell_type": "markdown",
   "id": "47f3e79c",
   "metadata": {},
   "source": [
    "__functions inside functions__"
   ]
  },
  {
   "cell_type": "code",
   "execution_count": 60,
   "id": "a15a22fd",
   "metadata": {},
   "outputs": [
    {
     "data": {
      "text/plain": [
       "120"
      ]
     },
     "execution_count": 60,
     "metadata": {},
     "output_type": "execute_result"
    }
   ],
   "source": [
    "#recursion function\n",
    "def factorial(n):\n",
    "    if n == 1:\n",
    "        return 1\n",
    "\n",
    "    return n * factorial(n-1) #The function is called within itself.\n",
    "\n",
    "factorial(5)"
   ]
  },
  {
   "cell_type": "code",
   "execution_count": 73,
   "id": "1f3e8d85",
   "metadata": {},
   "outputs": [
    {
     "data": {
      "text/plain": [
       "5702887"
      ]
     },
     "execution_count": 73,
     "metadata": {},
     "output_type": "execute_result"
    }
   ],
   "source": [
    "def fibonacci_recursive(n): #more nested functions!\n",
    "    #1,2,3,4,5,6,7, 8, 9,10\n",
    "    #0,1,1,2,3,5,8,13,21,34\n",
    "    #F(n)=F(n-1)+F(n-2), n>1\n",
    "    if n > 2:\n",
    "        return fibonacci_recursive(n-1)+fibonacci_recursive(n-2)\n",
    "    elif n == 2:\n",
    "        return 1\n",
    "    elif n == 1:\n",
    "        return 0\n",
    "\n",
    "fibonacci_recursive(35)"
   ]
  },
  {
   "cell_type": "code",
   "execution_count": 99,
   "id": "c7c235c5",
   "metadata": {},
   "outputs": [
    {
     "data": {
      "text/plain": [
       "34"
      ]
     },
     "execution_count": 99,
     "metadata": {},
     "output_type": "execute_result"
    }
   ],
   "source": [
    "def fibonacci_loop(n):\n",
    "    f=0\n",
    "    s=1\n",
    "    if n>2:\n",
    "        for x in range(2,n):\n",
    "            next=f+s\n",
    "            f=s\n",
    "            s=next\n",
    "        return s\n",
    "    elif n == 2:\n",
    "        return s\n",
    "    elif n == 1:\n",
    "        return f\n",
    "\n",
    "fibonacci_loop(10)"
   ]
  },
  {
   "cell_type": "code",
   "execution_count": 100,
   "id": "9067e046",
   "metadata": {},
   "outputs": [
    {
     "name": "stdout",
     "output_type": "stream",
     "text": [
      "Help on built-in function next in module builtins:\n",
      "\n",
      "next(...)\n",
      "    next(iterator[, default])\n",
      "    \n",
      "    Return the next item from the iterator. If default is given and the iterator\n",
      "    is exhausted, it is returned instead of raising StopIteration.\n",
      "\n"
     ]
    }
   ],
   "source": [
    "help(next)"
   ]
  },
  {
   "cell_type": "markdown",
   "id": "cf86df45",
   "metadata": {},
   "source": [
    "# Numpy"
   ]
  },
  {
   "cell_type": "code",
   "execution_count": 10,
   "id": "d707587d",
   "metadata": {},
   "outputs": [],
   "source": [
    "import math\n",
    "import numpy as np\n",
    "omega = 24.5\n",
    "phi = np.pi/6\n",
    "nb_pts = 1000"
   ]
  },
  {
   "cell_type": "code",
   "execution_count": 19,
   "id": "5da85362",
   "metadata": {},
   "outputs": [
    {
     "name": "stdout",
     "output_type": "stream",
     "text": [
      "218 µs ± 13.5 µs per loop (mean ± std. dev. of 7 runs, 1000 loops each)\n"
     ]
    }
   ],
   "source": [
    "%%timeit # Measures the amount of time it takes to runt the rest of the cell\n",
    "# Using just standard Python libraries\n",
    "t = (i/nb_pts for i in range(nb_pts))\n",
    "y = [math.sin(t_val*omega + phi) for t_val in t]"
   ]
  },
  {
   "cell_type": "code",
   "execution_count": 20,
   "id": "08c0b1b4",
   "metadata": {},
   "outputs": [
    {
     "name": "stdout",
     "output_type": "stream",
     "text": [
      "25.2 µs ± 1.09 µs per loop (mean ± std. dev. of 7 runs, 10000 loops each)\n"
     ]
    }
   ],
   "source": [
    "%%timeit # Measures the amount of time it takes to runt the rest of the cell\n",
    "# Using Numpy arrays\n",
    "t = np.arange(nb_pts)/nb_pts\n",
    "y = np.sin(t*omega + phi)"
   ]
  },
  {
   "cell_type": "code",
   "execution_count": 13,
   "id": "39190d6d",
   "metadata": {},
   "outputs": [],
   "source": [
    "%magic # Gives info on the % magic commands like %timeit"
   ]
  },
  {
   "cell_type": "markdown",
   "id": "3c0c6e2e",
   "metadata": {},
   "source": [
    "__Numpy Arrays__"
   ]
  },
  {
   "cell_type": "markdown",
   "id": "eb151562",
   "metadata": {},
   "source": [
    "np.array(), np.linspace(), np.arange(), np.zero(), np.ones()"
   ]
  },
  {
   "cell_type": "code",
   "execution_count": 2,
   "id": "a3ec6fa5",
   "metadata": {},
   "outputs": [
    {
     "data": {
      "text/plain": [
       "array([12. , 24.5, 15.3])"
      ]
     },
     "execution_count": 2,
     "metadata": {},
     "output_type": "execute_result"
    }
   ],
   "source": [
    "import numpy as np\n",
    "# use array when you aready have the data in some form:\n",
    "a = np.array([12, 24.5, 15.3])\n",
    "a"
   ]
  },
  {
   "cell_type": "code",
   "execution_count": 3,
   "id": "0b616074",
   "metadata": {},
   "outputs": [
    {
     "data": {
      "text/plain": [
       "array([[ 1,  2,  7],\n",
       "       [ 8, 24, -6]])"
      ]
     },
     "execution_count": 3,
     "metadata": {},
     "output_type": "execute_result"
    }
   ],
   "source": [
    "# arrays can have more than 1 dimension\n",
    "b = np.array([[1, 2, 7], [8, 24, -6]])\n",
    "b"
   ]
  },
  {
   "cell_type": "code",
   "execution_count": 4,
   "id": "d3e645bb",
   "metadata": {},
   "outputs": [
    {
     "name": "stdout",
     "output_type": "stream",
     "text": [
      "[5.  5.5 6.  6.5 7.  7.5]\n",
      "[0.  0.1 0.2 0.3 0.4 0.5 0.6 0.7 0.8 0.9]\n"
     ]
    }
   ],
   "source": [
    "# use linspace and arange to generate spaced grid points\n",
    "print(np.linspace(5, 7.5, 6))\n",
    "print(np.arange(0, 1., .1))"
   ]
  },
  {
   "cell_type": "code",
   "execution_count": 5,
   "id": "3c6fdb91",
   "metadata": {},
   "outputs": [
    {
     "name": "stdout",
     "output_type": "stream",
     "text": [
      "[0. 0. 0. 0.]\n",
      "[[1. 1.]\n",
      " [1. 1.]\n",
      " [1. 1.]]\n"
     ]
    }
   ],
   "source": [
    "# use zeros and ones to initiate an array with uniform values\n",
    "print(np.zeros(4))\n",
    "print(np.ones((3, 2)))"
   ]
  },
  {
   "cell_type": "markdown",
   "id": "133cc58c",
   "metadata": {},
   "source": [
    "__attributes:__\n",
    "\n",
    "dtype - type information about the data\n",
    "\n",
    "shape - tuple of ints that represent the number of entries along any axis"
   ]
  },
  {
   "cell_type": "code",
   "execution_count": 6,
   "id": "90ca0375",
   "metadata": {},
   "outputs": [
    {
     "name": "stdout",
     "output_type": "stream",
     "text": [
      "dtype of a is float64\n",
      "dtype of b is int64\n"
     ]
    }
   ],
   "source": [
    "print(\"dtype of a is\", a.dtype)\n",
    "print(\"dtype of b is\", b.dtype)"
   ]
  },
  {
   "cell_type": "markdown",
   "id": "ab500a82",
   "metadata": {},
   "source": [
    "Pay attention to the data type; creating arrays with the wrong dtype can lead to surprising and difficult-to-find bugs"
   ]
  },
  {
   "cell_type": "code",
   "execution_count": 7,
   "id": "4b00ad3e",
   "metadata": {},
   "outputs": [
    {
     "name": "stdout",
     "output_type": "stream",
     "text": [
      "[1 1 2]\n"
     ]
    }
   ],
   "source": [
    "int_arr = np.array([1, 1, 2])\n",
    "print(int_arr)"
   ]
  },
  {
   "cell_type": "code",
   "execution_count": 12,
   "id": "5bccb9df",
   "metadata": {},
   "outputs": [
    {
     "name": "stdout",
     "output_type": "stream",
     "text": [
      "[1 1 5]\n",
      "As you can see, this result is incorrect. It should be [1 1 5.7]\n"
     ]
    }
   ],
   "source": [
    "int_arr[2] = 5.7\n",
    "print(int_arr)\n",
    "print(\"As you can see, this result is incorrect. It should be [1 1 5.7]\")"
   ]
  },
  {
   "cell_type": "markdown",
   "id": "fbb45336",
   "metadata": {},
   "source": [
    "When you try to assign a floating point value to an integer array, it will be truncated. It is prudent choose the data type of an array explicitely when in doubt:"
   ]
  },
  {
   "cell_type": "code",
   "execution_count": 11,
   "id": "13d8a8f3",
   "metadata": {},
   "outputs": [
    {
     "name": "stdout",
     "output_type": "stream",
     "text": [
      "[1.  1.  5.7]\n"
     ]
    }
   ],
   "source": [
    "float_arr = np.array([1, 1, 2], dtype=float)\n",
    "float_arr[2] = 5.7\n",
    "print(float_arr)"
   ]
  },
  {
   "cell_type": "code",
   "execution_count": 13,
   "id": "717b5669",
   "metadata": {},
   "outputs": [
    {
     "data": {
      "text/plain": [
       "(3,)"
      ]
     },
     "execution_count": 13,
     "metadata": {},
     "output_type": "execute_result"
    }
   ],
   "source": [
    "a.shape # one-dimensional array: has only a length"
   ]
  },
  {
   "cell_type": "code",
   "execution_count": 14,
   "id": "8fdf2918",
   "metadata": {},
   "outputs": [
    {
     "data": {
      "text/plain": [
       "(2, 3)"
      ]
     },
     "execution_count": 14,
     "metadata": {},
     "output_type": "execute_result"
    }
   ],
   "source": [
    "b.shape # two-dimensioal array, has 3 columns and 2 rows"
   ]
  },
  {
   "cell_type": "code",
   "execution_count": 40,
   "id": "1c687e7e",
   "metadata": {},
   "outputs": [
    {
     "data": {
      "text/plain": [
       "array([1.25892541e+00, 4.52765642e+00, 1.62834688e+01, 5.85626055e+01,\n",
       "       2.10617209e+02, 7.57473280e+02, 2.72421124e+03, 9.79747682e+03,\n",
       "       3.52360898e+04, 1.26724671e+05, 4.55758351e+05, 1.63910999e+06])"
      ]
     },
     "execution_count": 40,
     "metadata": {},
     "output_type": "execute_result"
    }
   ],
   "source": [
    "np.logspace(.1,np.log(500),num=12)"
   ]
  },
  {
   "cell_type": "markdown",
   "id": "57ead4d8",
   "metadata": {},
   "source": [
    "__indexing__"
   ]
  },
  {
   "cell_type": "code",
   "execution_count": 42,
   "id": "02f00ea0",
   "metadata": {},
   "outputs": [
    {
     "data": {
      "text/plain": [
       "array([0, 1, 2, 3, 4])"
      ]
     },
     "execution_count": 42,
     "metadata": {},
     "output_type": "execute_result"
    }
   ],
   "source": [
    "a = np.arange(5)\n",
    "a"
   ]
  },
  {
   "cell_type": "code",
   "execution_count": 43,
   "id": "7477fa49",
   "metadata": {},
   "outputs": [
    {
     "data": {
      "text/plain": [
       "array([4, 3, 2, 1, 0])"
      ]
     },
     "execution_count": 43,
     "metadata": {},
     "output_type": "execute_result"
    }
   ],
   "source": [
    "a[::-1]"
   ]
  },
  {
   "cell_type": "code",
   "execution_count": 44,
   "id": "0b061c7a",
   "metadata": {},
   "outputs": [
    {
     "data": {
      "text/plain": [
       "array([1, 2, 3])"
      ]
     },
     "execution_count": 44,
     "metadata": {},
     "output_type": "execute_result"
    }
   ],
   "source": [
    "a[1:4]"
   ]
  },
  {
   "cell_type": "code",
   "execution_count": 45,
   "id": "21964f85",
   "metadata": {},
   "outputs": [
    {
     "data": {
      "text/plain": [
       "array([0, 2, 4])"
      ]
     },
     "execution_count": 45,
     "metadata": {},
     "output_type": "execute_result"
    }
   ],
   "source": [
    "a[::2]"
   ]
  },
  {
   "cell_type": "code",
   "execution_count": 46,
   "id": "30a5f3d7",
   "metadata": {},
   "outputs": [
    {
     "data": {
      "text/plain": [
       "array([[0, 1, 2],\n",
       "       [3, 4, 5],\n",
       "       [6, 7, 8]])"
      ]
     },
     "execution_count": 46,
     "metadata": {},
     "output_type": "execute_result"
    }
   ],
   "source": [
    "a = np.arange(9)\n",
    "a.shape = (3, 3)\n",
    "a"
   ]
  },
  {
   "cell_type": "code",
   "execution_count": 47,
   "id": "3dc7b320",
   "metadata": {},
   "outputs": [
    {
     "data": {
      "text/plain": [
       "array([[3, 4, 5],\n",
       "       [6, 7, 8]])"
      ]
     },
     "execution_count": 47,
     "metadata": {},
     "output_type": "execute_result"
    }
   ],
   "source": [
    "a[1:, :]"
   ]
  },
  {
   "cell_type": "code",
   "execution_count": 48,
   "id": "1f6b8dd0",
   "metadata": {},
   "outputs": [
    {
     "data": {
      "text/plain": [
       "array([[2, 1, 0],\n",
       "       [5, 4, 3],\n",
       "       [8, 7, 6]])"
      ]
     },
     "execution_count": 48,
     "metadata": {},
     "output_type": "execute_result"
    }
   ],
   "source": [
    "a[:, ::-1]"
   ]
  },
  {
   "cell_type": "markdown",
   "id": "e488159d",
   "metadata": {},
   "source": [
    "An important, and extremely useful feature of indexed arrays (so-called slices of arrays) is that they are not a copy of the original data, but only a view on it. The following example clarifies this:"
   ]
  },
  {
   "cell_type": "code",
   "execution_count": 49,
   "id": "a06478c0",
   "metadata": {},
   "outputs": [
    {
     "name": "stdout",
     "output_type": "stream",
     "text": [
      "[[1. 1. 1. 1.]\n",
      " [1. 1. 1. 1.]\n",
      " [1. 1. 1. 1.]\n",
      " [1. 1. 1. 1.]]\n"
     ]
    }
   ],
   "source": [
    "# Create an array\n",
    "a = np.ones((4, 4))\n",
    "print(a)"
   ]
  },
  {
   "cell_type": "code",
   "execution_count": 50,
   "id": "a63113c8",
   "metadata": {},
   "outputs": [
    {
     "name": "stdout",
     "output_type": "stream",
     "text": [
      "[[1. 1.]\n",
      " [1. 1.]]\n"
     ]
    }
   ],
   "source": [
    "# slice it to obtain a view on a sub-region\n",
    "b = a[:2, 1:3]\n",
    "print(b)"
   ]
  },
  {
   "cell_type": "code",
   "execution_count": 51,
   "id": "28f6c1ec",
   "metadata": {},
   "outputs": [
    {
     "name": "stdout",
     "output_type": "stream",
     "text": [
      "[[13. 13.]\n",
      " [13. 13.]]\n"
     ]
    }
   ],
   "source": [
    "# modify the content of the slice\n",
    "b += 12\n",
    "print(b)"
   ]
  },
  {
   "cell_type": "code",
   "execution_count": 52,
   "id": "856f6643",
   "metadata": {},
   "outputs": [
    {
     "name": "stdout",
     "output_type": "stream",
     "text": [
      "[[ 1. 13. 13.  1.]\n",
      " [ 1. 13. 13.  1.]\n",
      " [ 1.  1.  1.  1.]\n",
      " [ 1.  1.  1.  1.]]\n"
     ]
    }
   ],
   "source": [
    "# because the slice is not a copy, but a view of the\n",
    "# original data, the array a has also been modified\n",
    "print(a)"
   ]
  },
  {
   "cell_type": "markdown",
   "id": "08b5ec5a",
   "metadata": {},
   "source": [
    "__arithmetic__"
   ]
  },
  {
   "cell_type": "code",
   "execution_count": 53,
   "id": "38fe2b28",
   "metadata": {},
   "outputs": [
    {
     "data": {
      "text/plain": [
       "array([0., 1., 2., 3.])"
      ]
     },
     "execution_count": 53,
     "metadata": {},
     "output_type": "execute_result"
    }
   ],
   "source": [
    "a = np.arange(4, dtype=float)\n",
    "a"
   ]
  },
  {
   "cell_type": "code",
   "execution_count": 54,
   "id": "56d38841",
   "metadata": {},
   "outputs": [
    {
     "data": {
      "text/plain": [
       "array([2., 3., 4., 5.])"
      ]
     },
     "execution_count": 54,
     "metadata": {},
     "output_type": "execute_result"
    }
   ],
   "source": [
    "a+2"
   ]
  },
  {
   "cell_type": "code",
   "execution_count": 55,
   "id": "48b25677",
   "metadata": {},
   "outputs": [
    {
     "data": {
      "text/plain": [
       "array([ 0.,  5., 10., 15.])"
      ]
     },
     "execution_count": 55,
     "metadata": {},
     "output_type": "execute_result"
    }
   ],
   "source": [
    "a*5"
   ]
  },
  {
   "cell_type": "code",
   "execution_count": 56,
   "id": "481150e7",
   "metadata": {},
   "outputs": [
    {
     "data": {
      "text/plain": [
       "array([12. ,  6. ,  2.3,  8. ])"
      ]
     },
     "execution_count": 56,
     "metadata": {},
     "output_type": "execute_result"
    }
   ],
   "source": [
    "a + np.array([12,5,.3,5])"
   ]
  },
  {
   "cell_type": "code",
   "execution_count": 57,
   "id": "9bbd56a1",
   "metadata": {},
   "outputs": [
    {
     "data": {
      "text/plain": [
       "array([ 0.,  3.,  8., 15.])"
      ]
     },
     "execution_count": 57,
     "metadata": {},
     "output_type": "execute_result"
    }
   ],
   "source": [
    "a ** 2 + 2*a"
   ]
  },
  {
   "cell_type": "markdown",
   "id": "718af026",
   "metadata": {},
   "source": [
    "Arrays don't need to have the same dimensions when using Numpy."
   ]
  },
  {
   "cell_type": "code",
   "execution_count": 58,
   "id": "1fa9a3d1",
   "metadata": {},
   "outputs": [
    {
     "data": {
      "text/plain": [
       "array([[0, 1],\n",
       "       [2, 3]])"
      ]
     },
     "execution_count": 58,
     "metadata": {},
     "output_type": "execute_result"
    }
   ],
   "source": [
    "a = np.arange(4)\n",
    "a.shape = (2, 2)\n",
    "a"
   ]
  },
  {
   "cell_type": "code",
   "execution_count": 61,
   "id": "4f269ebf",
   "metadata": {},
   "outputs": [
    {
     "data": {
      "text/plain": [
       "array([[8],\n",
       "       [9]])"
      ]
     },
     "execution_count": 61,
     "metadata": {},
     "output_type": "execute_result"
    }
   ],
   "source": [
    "b = np.array([[8], [9]])\n",
    "b"
   ]
  },
  {
   "cell_type": "code",
   "execution_count": 62,
   "id": "33225d57",
   "metadata": {},
   "outputs": [
    {
     "data": {
      "text/plain": [
       "array([[ 8,  9],\n",
       "       [11, 12]])"
      ]
     },
     "execution_count": 62,
     "metadata": {},
     "output_type": "execute_result"
    }
   ],
   "source": [
    "a + b"
   ]
  },
  {
   "cell_type": "code",
   "execution_count": 93,
   "id": "ea7c5cad",
   "metadata": {},
   "outputs": [
    {
     "data": {
      "text/plain": [
       "array([[1, 0, 1, 0, 1, 0, 1, 0],\n",
       "       [0, 1, 0, 1, 0, 1, 0, 1],\n",
       "       [1, 0, 1, 0, 1, 0, 1, 0],\n",
       "       [0, 1, 0, 1, 0, 1, 0, 1],\n",
       "       [1, 0, 1, 0, 1, 0, 1, 0],\n",
       "       [0, 1, 0, 1, 0, 1, 0, 1],\n",
       "       [1, 0, 1, 0, 1, 0, 1, 0],\n",
       "       [0, 1, 0, 1, 0, 1, 0, 1]])"
      ]
     },
     "execution_count": 93,
     "metadata": {},
     "output_type": "execute_result"
    }
   ],
   "source": [
    "\n",
    "a = np.indices((8,8)).sum(axis=0) % 2 #creates the chess board\n",
    "np.flip(a,1) #flips it so the a1 square is black (0)"
   ]
  },
  {
   "cell_type": "code",
   "execution_count": 118,
   "id": "9d6bbf1c",
   "metadata": {},
   "outputs": [
    {
     "data": {
      "text/plain": [
       "array([[[0, 0, 0, 0, 0, 0, 0, 0],\n",
       "        [1, 1, 1, 1, 1, 1, 1, 1],\n",
       "        [2, 2, 2, 2, 2, 2, 2, 2],\n",
       "        [3, 3, 3, 3, 3, 3, 3, 3],\n",
       "        [4, 4, 4, 4, 4, 4, 4, 4],\n",
       "        [5, 5, 5, 5, 5, 5, 5, 5],\n",
       "        [6, 6, 6, 6, 6, 6, 6, 6],\n",
       "        [7, 7, 7, 7, 7, 7, 7, 7]],\n",
       "\n",
       "       [[0, 1, 2, 3, 4, 5, 6, 7],\n",
       "        [0, 1, 2, 3, 4, 5, 6, 7],\n",
       "        [0, 1, 2, 3, 4, 5, 6, 7],\n",
       "        [0, 1, 2, 3, 4, 5, 6, 7],\n",
       "        [0, 1, 2, 3, 4, 5, 6, 7],\n",
       "        [0, 1, 2, 3, 4, 5, 6, 7],\n",
       "        [0, 1, 2, 3, 4, 5, 6, 7],\n",
       "        [0, 1, 2, 3, 4, 5, 6, 7]]])"
      ]
     },
     "execution_count": 118,
     "metadata": {},
     "output_type": "execute_result"
    }
   ],
   "source": [
    "#creating a chess board of 0s and 1s\n",
    "a = np.indices((8,8))\n",
    "a"
   ]
  },
  {
   "cell_type": "code",
   "execution_count": 119,
   "id": "2213f80a",
   "metadata": {},
   "outputs": [
    {
     "data": {
      "text/plain": [
       "array([[ 0,  1,  2,  3,  4,  5,  6,  7],\n",
       "       [ 1,  2,  3,  4,  5,  6,  7,  8],\n",
       "       [ 2,  3,  4,  5,  6,  7,  8,  9],\n",
       "       [ 3,  4,  5,  6,  7,  8,  9, 10],\n",
       "       [ 4,  5,  6,  7,  8,  9, 10, 11],\n",
       "       [ 5,  6,  7,  8,  9, 10, 11, 12],\n",
       "       [ 6,  7,  8,  9, 10, 11, 12, 13],\n",
       "       [ 7,  8,  9, 10, 11, 12, 13, 14]])"
      ]
     },
     "execution_count": 119,
     "metadata": {},
     "output_type": "execute_result"
    }
   ],
   "source": [
    "a = np.sum(a,axis=0)\n",
    "a"
   ]
  },
  {
   "cell_type": "code",
   "execution_count": 120,
   "id": "97902fc8",
   "metadata": {},
   "outputs": [
    {
     "data": {
      "text/plain": [
       "array([[0, 1, 0, 1, 0, 1, 0, 1],\n",
       "       [1, 0, 1, 0, 1, 0, 1, 0],\n",
       "       [0, 1, 0, 1, 0, 1, 0, 1],\n",
       "       [1, 0, 1, 0, 1, 0, 1, 0],\n",
       "       [0, 1, 0, 1, 0, 1, 0, 1],\n",
       "       [1, 0, 1, 0, 1, 0, 1, 0],\n",
       "       [0, 1, 0, 1, 0, 1, 0, 1],\n",
       "       [1, 0, 1, 0, 1, 0, 1, 0]])"
      ]
     },
     "execution_count": 120,
     "metadata": {},
     "output_type": "execute_result"
    }
   ],
   "source": [
    "a = a % 2 #this is called modulo 2\n",
    "#it returns the remainder of each value when divided by 2 (either 0 or 1)\n",
    "a"
   ]
  },
  {
   "cell_type": "code",
   "execution_count": 122,
   "id": "c24e5b12",
   "metadata": {},
   "outputs": [
    {
     "data": {
      "text/plain": [
       "array([[1, 0, 1, 0, 1, 0, 1, 0],\n",
       "       [0, 1, 0, 1, 0, 1, 0, 1],\n",
       "       [1, 0, 1, 0, 1, 0, 1, 0],\n",
       "       [0, 1, 0, 1, 0, 1, 0, 1],\n",
       "       [1, 0, 1, 0, 1, 0, 1, 0],\n",
       "       [0, 1, 0, 1, 0, 1, 0, 1],\n",
       "       [1, 0, 1, 0, 1, 0, 1, 0],\n",
       "       [0, 1, 0, 1, 0, 1, 0, 1]])"
      ]
     },
     "execution_count": 122,
     "metadata": {},
     "output_type": "execute_result"
    }
   ],
   "source": [
    "np.flip(a,1) # flip the board so a1 is black (0)"
   ]
  },
  {
   "cell_type": "code",
   "execution_count": 128,
   "id": "d8d25598",
   "metadata": {},
   "outputs": [
    {
     "name": "stdout",
     "output_type": "stream",
     "text": [
      "[0 1 2 3]\n",
      "[ 0 10 20 30]\n"
     ]
    }
   ],
   "source": [
    "a = np.arange(4)\n",
    "b = 10*a\n",
    "print(a)\n",
    "print(b)"
   ]
  },
  {
   "cell_type": "code",
   "execution_count": 129,
   "id": "36eaf967",
   "metadata": {},
   "outputs": [
    {
     "name": "stdout",
     "output_type": "stream",
     "text": [
      "[[ 0  1  2  3]\n",
      " [10 11 12 13]\n",
      " [20 21 22 23]\n",
      " [30 31 32 33]]\n"
     ]
    }
   ],
   "source": [
    "b.shape = (4,1)\n",
    "print(a+b)"
   ]
  },
  {
   "cell_type": "code",
   "execution_count": 130,
   "id": "7cd08a0c",
   "metadata": {},
   "outputs": [
    {
     "data": {
      "text/plain": [
       "array([0, 1, 2, 3, 4])"
      ]
     },
     "execution_count": 130,
     "metadata": {},
     "output_type": "execute_result"
    }
   ],
   "source": [
    "a=np.arange(5)\n",
    "a"
   ]
  },
  {
   "cell_type": "code",
   "execution_count": 133,
   "id": "0c68da0f",
   "metadata": {},
   "outputs": [
    {
     "data": {
      "text/plain": [
       "array([[0, 1, 2, 3, 4],\n",
       "       [5, 6, 7, 8, 9]])"
      ]
     },
     "execution_count": 133,
     "metadata": {},
     "output_type": "execute_result"
    }
   ],
   "source": [
    "b=np.arange(10).reshape(2,5)\n",
    "b"
   ]
  },
  {
   "cell_type": "code",
   "execution_count": 134,
   "id": "78b2c954",
   "metadata": {},
   "outputs": [
    {
     "data": {
      "text/plain": [
       "array([[ 0,  2,  4,  6,  8],\n",
       "       [ 5,  7,  9, 11, 13]])"
      ]
     },
     "execution_count": 134,
     "metadata": {},
     "output_type": "execute_result"
    }
   ],
   "source": [
    "a+b"
   ]
  },
  {
   "cell_type": "markdown",
   "id": "54090bf7",
   "metadata": {},
   "source": [
    "__Basical Linear Algebra__"
   ]
  },
  {
   "cell_type": "code",
   "execution_count": 135,
   "id": "c04310fc",
   "metadata": {},
   "outputs": [
    {
     "data": {
      "text/plain": [
       "array([[4, 1],\n",
       "       [2, 2]])"
      ]
     },
     "execution_count": 135,
     "metadata": {},
     "output_type": "execute_result"
    }
   ],
   "source": [
    "#matrix multiplication\n",
    "a = np.array([[1, 0], [0, 1]])\n",
    "b = np.array([[4, 1], [2, 2]])\n",
    "np.dot(a, b)"
   ]
  },
  {
   "cell_type": "code",
   "execution_count": 136,
   "id": "535021fb",
   "metadata": {},
   "outputs": [
    {
     "data": {
      "text/plain": [
       "array([12, 18])"
      ]
     },
     "execution_count": 136,
     "metadata": {},
     "output_type": "execute_result"
    }
   ],
   "source": [
    "c = np.array([1, 8])\n",
    "np.dot(b, c)"
   ]
  },
  {
   "cell_type": "code",
   "execution_count": 138,
   "id": "494e4f58",
   "metadata": {},
   "outputs": [
    {
     "data": {
      "text/plain": [
       "array([[ 0.33333333, -0.16666667],\n",
       "       [-0.33333333,  0.66666667]])"
      ]
     },
     "execution_count": 138,
     "metadata": {},
     "output_type": "execute_result"
    }
   ],
   "source": [
    "np.linalg.inv(b) #inverse"
   ]
  },
  {
   "cell_type": "code",
   "execution_count": 139,
   "id": "4ec6a006",
   "metadata": {},
   "outputs": [
    {
     "data": {
      "text/plain": [
       "array([[4, 2],\n",
       "       [1, 2]])"
      ]
     },
     "execution_count": 139,
     "metadata": {},
     "output_type": "execute_result"
    }
   ],
   "source": [
    "b.T #transpose"
   ]
  },
  {
   "cell_type": "code",
   "execution_count": 140,
   "id": "b3630176",
   "metadata": {},
   "outputs": [
    {
     "data": {
      "text/plain": [
       "array([4.73205081, 1.26794919])"
      ]
     },
     "execution_count": 140,
     "metadata": {},
     "output_type": "execute_result"
    }
   ],
   "source": [
    "values, vectors = np.linalg.eig(b) #eigenvalues\n",
    "values"
   ]
  },
  {
   "cell_type": "code",
   "execution_count": 141,
   "id": "1ef2f8e6",
   "metadata": {},
   "outputs": [
    {
     "data": {
      "text/plain": [
       "array([[ 0.80689822, -0.34372377],\n",
       "       [ 0.59069049,  0.9390708 ]])"
      ]
     },
     "execution_count": 141,
     "metadata": {},
     "output_type": "execute_result"
    }
   ],
   "source": [
    "vectors"
   ]
  },
  {
   "cell_type": "markdown",
   "id": "26e9dd5e",
   "metadata": {},
   "source": [
    "Solve a system of equations with linear algebra!\n",
    "\n",
    "The solution follows: AX=B -> X=inv(A)B"
   ]
  },
  {
   "cell_type": "code",
   "execution_count": 144,
   "id": "c59b2208",
   "metadata": {},
   "outputs": [],
   "source": [
    "\"\"\"Given 12x+16y=4 and 8x+12y=0\"\"\"\n",
    "A = np.array([12,16,8,12]).reshape(2,2)\n",
    "B = np.array([4,0]).reshape(2,1)\n",
    "X = np.zeros(2).reshape(2,1)"
   ]
  },
  {
   "cell_type": "code",
   "execution_count": 153,
   "id": "bc4a4b0f",
   "metadata": {},
   "outputs": [
    {
     "data": {
      "text/plain": [
       "array([[ 3.],\n",
       "       [-2.]])"
      ]
     },
     "execution_count": 153,
     "metadata": {},
     "output_type": "execute_result"
    }
   ],
   "source": [
    "Ainv = np.linalg.inv(A)\n",
    "X = np.dot(Ainv,B)\n",
    "\"\"\"x = 3 and y = -2\"\"\"\n",
    "X"
   ]
  },
  {
   "cell_type": "code",
   "execution_count": 155,
   "id": "cf989629",
   "metadata": {},
   "outputs": [
    {
     "data": {
      "text/plain": [
       "array([[ 3.],\n",
       "       [-2.]])"
      ]
     },
     "execution_count": 155,
     "metadata": {},
     "output_type": "execute_result"
    }
   ],
   "source": [
    "np.linalg.solve(A,B) # Here's a faster way to solve systems of equations"
   ]
  },
  {
   "cell_type": "markdown",
   "id": "5f8f8bec",
   "metadata": {},
   "source": [
    "# SciPy"
   ]
  },
  {
   "cell_type": "markdown",
   "id": "e4dca10a",
   "metadata": {},
   "source": [
    "SciPy is good for optimisation, spectral analysis, linear algebra, and more."
   ]
  },
  {
   "cell_type": "code",
   "execution_count": 157,
   "id": "169ea08b",
   "metadata": {},
   "outputs": [
    {
     "name": "stdout",
     "output_type": "stream",
     "text": [
      "root of f(x): x = [1.02986653]\n"
     ]
    }
   ],
   "source": [
    "import numpy as np\n",
    "import scipy.optimize as optim\n",
    "def fun(x):\n",
    "    return x - 2*np.cos(x)\n",
    "\n",
    "sol = optim.root(fun, x0 = 0) #With a suitable guess, this fidns the root\n",
    "print(\"root of f(x): x =\", sol.x)"
   ]
  },
  {
   "cell_type": "markdown",
   "id": "0c1159c1",
   "metadata": {},
   "source": [
    "# Matplotlib"
   ]
  },
  {
   "cell_type": "code",
   "execution_count": 158,
   "id": "cfae4c34",
   "metadata": {},
   "outputs": [
    {
     "data": {
      "image/png": "[encoded data removed]",
      "text/plain": [
       "<Figure size 432x288 with 1 Axes>"
      ]
     },
     "metadata": {},
     "output_type": "display_data"
    }
   ],
   "source": [
    "%matplotlib inline #This simply tells Jupyter to put the graph inline\n",
    "import matplotlib.pyplot as plt\n",
    "plt.plot([1,2,3,4])\n",
    "\n",
    "plt.ylabel('some numbers');"
   ]
  },
  {
   "cell_type": "code",
   "execution_count": 159,
   "id": "1ee59fbe",
   "metadata": {},
   "outputs": [
    {
     "data": {
      "image/png": "[encoded data removed]",
      "text/plain": [
       "<Figure size 432x288 with 1 Axes>"
      ]
     },
     "metadata": {},
     "output_type": "display_data"
    }
   ],
   "source": [
    "plt.plot([1,2,3,4], [1,4,9,16], 'ro')\n",
    "plt.axis([0, 6, 0, 20]);"
   ]
  },
  {
   "cell_type": "code",
   "execution_count": 160,
   "id": "6c1626ad",
   "metadata": {},
   "outputs": [
    {
     "data": {
      "image/png": "[encoded data removed]",
      "text/plain": [
       "<Figure size 432x288 with 1 Axes>"
      ]
     },
     "metadata": {},
     "output_type": "display_data"
    }
   ],
   "source": [
    "# evenly sampled time at 200ms intervals\n",
    "t = np.arange(0., 5., 0.2)\n",
    "\n",
    "# red dashes, blue squares and green triangles\n",
    "plt.plot(t, t, 'r--', t, t**2, 'bs', t, t**3, 'g^');"
   ]
  },
  {
   "cell_type": "code",
   "execution_count": 161,
   "id": "48322d7b",
   "metadata": {},
   "outputs": [
    {
     "data": {
      "image/png": "[encoded data removed]",
      "text/plain": [
       "<Figure size 432x288 with 1 Axes>"
      ]
     },
     "metadata": {},
     "output_type": "display_data"
    }
   ],
   "source": [
    "#Saves the graphs to the same file folder.\n",
    "#The plt.savefig command needs to be in the same Jupyter cell as plt.plot\n",
    "plt.plot(t, t, 'r--', t, t**2, 'bs', t, t**3, 'g^')\n",
    "plt.savefig('myplot.pdf')\n",
    "plt.savefig('myplot.png', dpi=300)"
   ]
  },
  {
   "cell_type": "code",
   "execution_count": 170,
   "id": "8ef12b27",
   "metadata": {},
   "outputs": [
    {
     "data": {
      "text/plain": [
       "[<matplotlib.lines.Line2D at 0x7fec14ab4b00>]"
      ]
     },
     "execution_count": 170,
     "metadata": {},
     "output_type": "execute_result"
    },
    {
     "data": {
      "image/png": "[encoded data removed]",
      "text/plain": [
       "<Figure size 432x288 with 1 Axes>"
      ]
     },
     "metadata": {},
     "output_type": "display_data"
    }
   ],
   "source": [
    "def fun(x):\n",
    "    return x+np.exp(x)+10/(1+x**2)-5\n",
    "\n",
    "x = np.arange(-5,5,.01)\n",
    "plt.plot(x,fun(x))"
   ]
  },
  {
   "cell_type": "code",
   "execution_count": 176,
   "id": "15bbe824",
   "metadata": {},
   "outputs": [
    {
     "name": "stdout",
     "output_type": "stream",
     "text": [
      "root of f(x): x = [-0.90456259]\n"
     ]
    }
   ],
   "source": [
    "sol = optim.root(fun, x0 = -1)\n",
    "print(\"root of f(x): x =\", sol.x)\n",
    "#can't guess something like 1.5 because it would find the local minimum"
   ]
  },
  {
   "cell_type": "code",
   "execution_count": 191,
   "id": "3528aa14",
   "metadata": {},
   "outputs": [],
   "source": [
    "stress = [4.99762687e+10, 5.00334074e+10,  5.00859578e+10,\n",
    "          5.01265455e+10, 5.01975239e+10,  5.02073815e+10,\n",
    "          5.02568815e+10, 5.02578512e+10,  5.03382411e+10,\n",
    "          5.03809123e+10, 5.04067895e+10]\n",
    "strain = [0., 0.0002, 0.0004, 0.0006,\n",
    "          0.0008, 0.001 , 0.0012, 0.0014,\n",
    "          0.0016, 0.0018, 0.002 ]"
   ]
  },
  {
   "cell_type": "code",
   "execution_count": 204,
   "id": "d8f5c583",
   "metadata": {},
   "outputs": [],
   "source": [
    "stress = np.array(stress)\n",
    "strain = np.array(strain)"
   ]
  },
  {
   "cell_type": "code",
   "execution_count": 202,
   "id": "cc0b9cd1",
   "metadata": {},
   "outputs": [
    {
     "data": {
      "text/plain": [
       "array([2.10065568e+11, 4.99960945e+10])"
      ]
     },
     "execution_count": 202,
     "metadata": {},
     "output_type": "execute_result"
    }
   ],
   "source": [
    "a = np.vstack([strain, np.ones(len(strain))]).T\n",
    "np.dot(np.linalg.inv(np.dot(a.T, a)), np.dot(a.T, stress))"
   ]
  },
  {
   "cell_type": "code",
   "execution_count": 208,
   "id": "6594c652",
   "metadata": {},
   "outputs": [
    {
     "data": {
      "text/plain": [
       "array([2.10065568e+11, 4.99960945e+10])"
      ]
     },
     "execution_count": 208,
     "metadata": {},
     "output_type": "execute_result"
    }
   ],
   "source": [
    "np.linalg.lstsq(a, stress, rcond=None)[0]"
   ]
  },
  {
   "cell_type": "code",
   "execution_count": 207,
   "id": "88b03e17",
   "metadata": {},
   "outputs": [
    {
     "data": {
      "text/plain": [
       "array([2.10065568e+11, 4.99960945e+10])"
      ]
     },
     "execution_count": 207,
     "metadata": {},
     "output_type": "execute_result"
    }
   ],
   "source": [
    "np.polyfit(strain, stress, 1)"
   ]
  },
  {
   "cell_type": "code",
   "execution_count": 227,
   "id": "0fbb2399",
   "metadata": {},
   "outputs": [
    {
     "data": {
      "image/png": "[encoded data removed]",
      "text/plain": [
       "<Figure size 432x288 with 1 Axes>"
      ]
     },
     "metadata": {},
     "output_type": "display_data"
    }
   ],
   "source": [
    "m, c = np.polyfit(strain, stress, 1)\n",
    "xn = np.linspace(0,0.002)\n",
    "yn = np.polyval([m, c], xn)\n",
    "\n",
    "plt.plot(strain, stress, 'or')\n",
    "plt.plot(xn, yn)\n",
    "plt.title(\"Young's Modulus\")\n",
    "plt.xlabel('Strain')\n",
    "plt.ylabel('Stress')\n",
    "plt.show()"
   ]
  },
  {
   "cell_type": "code",
   "execution_count": null,
   "id": "18522f6a",
   "metadata": {},
   "outputs": [],
   "source": []
  }
 ],
 "metadata": {
  "kernelspec": {
   "display_name": "Python 3",
   "language": "python",
   "name": "python3"
  },
  "language_info": {
   "codemirror_mode": {
    "name": "ipython",
    "version": 3
   },
   "file_extension": ".py",
   "mimetype": "text/x-python",
   "name": "python",
   "nbconvert_exporter": "python",
   "pygments_lexer": "ipython3",
   "version": "3.6.5"
  }
 },
 "nbformat": 4,
 "nbformat_minor": 5
}
